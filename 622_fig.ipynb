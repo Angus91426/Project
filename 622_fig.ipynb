{
 "cells": [
  {
   "cell_type": "code",
   "execution_count": null,
   "metadata": {},
   "outputs": [],
   "source": [
    "import matplotlib.pyplot as plt\n",
    "import pandas as pd\n",
    "import numpy as np"
   ]
  },
  {
   "cell_type": "code",
   "execution_count": null,
   "metadata": {},
   "outputs": [],
   "source": [
    "list_hour = [\"1\", \"2\", \"3\", \"4\", \"5\", \"6\", \"7\", \"8\", \"9\", \"10\", \"11\", \"12\", \"13\", \"14\", \"15\", \"16\", \"17\", \"18\", \"19\", \"20\", \"21\", \"22\", \"23\", \"24\"]"
   ]
  },
  {
   "cell_type": "code",
   "execution_count": null,
   "metadata": {},
   "outputs": [],
   "source": [
    "#讀入要進行視覺化的資料\n",
    "Result = pd.read_excel(\"result/Result.xlsx\")\n",
    "\n",
    "#columns = Result.columns[3:] => 取第3行之後\n",
    "Result = pd.DataFrame(Result, columns = Result.columns[3:])\n",
    "    \n",
    "Result = Result.drop(columns = [\n",
    "    'Charge[month][date][hour]', \n",
    "    'Discharge[month][date][hour]', \n",
    "    'Purchase[month][date][hour]', \n",
    "    'Inventory[month][date][hour]', \n",
    "    'Inventory', \n",
    "    'PVoutput[month][date][hour]', \n",
    "    'Theta[month][date][hour]', \n",
    "    'Theta', \n",
    "    'Load[month][date][hour]', \n",
    "    'Price[month][date][hour]'\n",
    "])\n",
    "\n",
    "Result[\"Price\"] = round(Result[\"Price\"] / 30, 3)\n",
    "\n",
    "June22_Charge = Result.iloc[4152:4176, :][\"Charge\"]\n",
    "June22_Discharge = Result.iloc[4152:4176, :][\"Discharge\"]\n",
    "June22_Purchase = Result.iloc[4152:4176, :][\"Purchase\"]\n",
    "June22_PVoutput = Result.iloc[4152:4176, :][\"PVoutput\"]\n",
    "June22_Load = Result.iloc[4152:4176, :][\"Load\"]\n",
    "June22_Price = Result.iloc[4152:4176, :][\"Price\"]"
   ]
  },
  {
   "cell_type": "code",
   "execution_count": null,
   "metadata": {},
   "outputs": [],
   "source": [
    "width1 = 0.25  #條狀圖單一條的寬度\n",
    "plt.figure(figsize = (10, 10))  #設定圖表長寬\n",
    "plt.subplot(2,1,1)  #每圖表以兩張圖表組合在一起，此為第一張\n",
    "list1 = [x - width1/2 for x in range(len(list_hour))]  #因兩項資料放在一起，要共用資料寬度，所以一人一半\n",
    "list2 = [x + width1/2 for x in range(len(list_hour))]\n",
    "#bar(橫軸值, 縱軸值, 條寬度, 條顏色,資料標籤)\n",
    "plt.bar(list1, June22_Purchase, width1, color = \"cyan\", label = \"Purchase\")  #購電量資料\n",
    "plt.bar(list2, June22_Load, width1, color = \"red\", label = \"Load\")  #負載量資料\n",
    "plt.xticks(range(len(list_hour)), labels = list_hour)  #x軸座標值\n",
    "y = [0, 2000, 4000, 6000, 8000, 10000]\n",
    "y_tick_labels = ['0', '2,000', '4,000', '6,000', '8,000', '10,000']\n",
    "plt.yticks(y, y_tick_labels)\n",
    "plt.title(\"June 22nd\")  #圖表標題\n",
    "plt.xlabel(\"Hours\")  #x軸座標標籤\n",
    "plt.ylabel(\"kW/h\")  #y軸座標標籤\n",
    "plt.legend(loc = \"upper left\")  #資料標籤顯示位置\n",
    "plt.grid()  #圖片結果以網格顯示\n",
    "ax2 = plt.twinx()  #定義第二組不同呈現方式的資料\n",
    "ax2.set_ylabel(\"US $/kWh\")  #第二組y軸座標標籤\n",
    "#plt(橫軸值, 縱軸值, 折線顏色與型態, 資料標籤)\n",
    "plt.plot(list_hour, June22_Price, \"g-.*\", label = \"Price\")  #購電價資料\n",
    "plt.ylim(0, 0.2)\n",
    "plt.legend(loc = \"upper right\")\n",
    "\n",
    "width2 = 0.25\n",
    "plt.subplot(2,1,2)\n",
    "list1 = [x - width2/2 for x in range(len(list_hour))]  #因兩項資料放在一起，要共用資料寬度，所以一人一半\n",
    "list2 = [x + width2/2 for x in range(len(list_hour))]\n",
    "plt.bar(list1, June22_Charge, width2, color = \"orange\", label = \"Charge\")  #充電量資料\n",
    "plt.bar(list2, June22_Discharge, width2, color = \"blue\", label = \"Discharge\")  #放電量資料\n",
    "y = [0, 2000, 4000, 6000, 8000, 10000]\n",
    "y_tick_labels = ['0', '2,000', '4,000', '6,000', '8,000', '10,000']\n",
    "plt.yticks(y, y_tick_labels)\n",
    "plt.xlabel(\"Hours\")\n",
    "plt.ylabel(\"kW/h\")\n",
    "plt.legend(loc = \"upper left\")\n",
    "plt.grid()\n",
    "ax2 = plt.twinx()\n",
    "ax2.set_ylabel(\"kW/h\")\n",
    "plt.plot(list_hour, June22_PVoutput, \"r-.*\", label = \"PV output\")  #光伏輸出量資料\n",
    "y = [0, 2000, 4000, 6000, 8000, 10000]\n",
    "y_tick_labels = ['0', '2,000', '4,000', '6,000', '8,000', '10,000']\n",
    "plt.yticks(y, y_tick_labels)\n",
    "plt.legend(loc = \"upper right\")\n",
    "\n",
    "plt.savefig(\"result_figures/June 22.jpg\")\n",
    "plt.close()  #將製作完的圖表關閉，避免佔據記憶體空間"
   ]
  }
 ],
 "metadata": {
  "kernelspec": {
   "display_name": "base",
   "language": "python",
   "name": "python3"
  },
  "language_info": {
   "codemirror_mode": {
    "name": "ipython",
    "version": 3
   },
   "file_extension": ".py",
   "mimetype": "text/x-python",
   "name": "python",
   "nbconvert_exporter": "python",
   "pygments_lexer": "ipython3",
   "version": "3.7.16"
  },
  "orig_nbformat": 4
 },
 "nbformat": 4,
 "nbformat_minor": 2
}
