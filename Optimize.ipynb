{
 "cells": [
  {
   "cell_type": "code",
   "execution_count": 31,
   "metadata": {},
   "outputs": [],
   "source": [
    "__author__ = \"Angus Liao 2023/2/24\""
   ]
  },
  {
   "cell_type": "code",
   "execution_count": 32,
   "metadata": {},
   "outputs": [],
   "source": [
    "from gurobipy import *\n",
    "from gurobipy import quicksum\n",
    "from gurobipy import Model\n",
    "from gurobipy import GRB\n",
    "import pandas as pd\n",
    "import numpy as np"
   ]
  },
  {
   "cell_type": "markdown",
   "metadata": {},
   "source": [
    "# 讀入資料"
   ]
  },
  {
   "cell_type": "code",
   "execution_count": 33,
   "metadata": {
    "scrolled": false
   },
   "outputs": [
    {
     "data": {
      "text/html": [
       "<div>\n",
       "<style scoped>\n",
       "    .dataframe tbody tr th:only-of-type {\n",
       "        vertical-align: middle;\n",
       "    }\n",
       "\n",
       "    .dataframe tbody tr th {\n",
       "        vertical-align: top;\n",
       "    }\n",
       "\n",
       "    .dataframe thead th {\n",
       "        text-align: right;\n",
       "    }\n",
       "</style>\n",
       "<table border=\"1\" class=\"dataframe\">\n",
       "  <thead>\n",
       "    <tr style=\"text-align: right;\">\n",
       "      <th></th>\n",
       "      <th>Date</th>\n",
       "      <th>Time</th>\n",
       "      <th>Price</th>\n",
       "      <th>Theta</th>\n",
       "      <th>Load(kW)</th>\n",
       "    </tr>\n",
       "  </thead>\n",
       "  <tbody>\n",
       "    <tr>\n",
       "      <th>0</th>\n",
       "      <td>2020/1/1</td>\n",
       "      <td>01:00</td>\n",
       "      <td>1.50</td>\n",
       "      <td>0.0</td>\n",
       "      <td>1542</td>\n",
       "    </tr>\n",
       "    <tr>\n",
       "      <th>1</th>\n",
       "      <td>2020/1/1</td>\n",
       "      <td>02:00</td>\n",
       "      <td>1.50</td>\n",
       "      <td>0.0</td>\n",
       "      <td>1504</td>\n",
       "    </tr>\n",
       "    <tr>\n",
       "      <th>2</th>\n",
       "      <td>2020/1/1</td>\n",
       "      <td>03:00</td>\n",
       "      <td>1.50</td>\n",
       "      <td>0.0</td>\n",
       "      <td>1487</td>\n",
       "    </tr>\n",
       "    <tr>\n",
       "      <th>3</th>\n",
       "      <td>2020/1/1</td>\n",
       "      <td>04:00</td>\n",
       "      <td>1.50</td>\n",
       "      <td>0.0</td>\n",
       "      <td>1510</td>\n",
       "    </tr>\n",
       "    <tr>\n",
       "      <th>4</th>\n",
       "      <td>2020/1/1</td>\n",
       "      <td>05:00</td>\n",
       "      <td>1.50</td>\n",
       "      <td>0.0</td>\n",
       "      <td>1506</td>\n",
       "    </tr>\n",
       "    <tr>\n",
       "      <th>...</th>\n",
       "      <td>...</td>\n",
       "      <td>...</td>\n",
       "      <td>...</td>\n",
       "      <td>...</td>\n",
       "      <td>...</td>\n",
       "    </tr>\n",
       "    <tr>\n",
       "      <th>8779</th>\n",
       "      <td>2020/12/31</td>\n",
       "      <td>20:00</td>\n",
       "      <td>3.44</td>\n",
       "      <td>0.0</td>\n",
       "      <td>3174</td>\n",
       "    </tr>\n",
       "    <tr>\n",
       "      <th>8780</th>\n",
       "      <td>2020/12/31</td>\n",
       "      <td>21:00</td>\n",
       "      <td>3.44</td>\n",
       "      <td>0.0</td>\n",
       "      <td>2812</td>\n",
       "    </tr>\n",
       "    <tr>\n",
       "      <th>8781</th>\n",
       "      <td>2020/12/31</td>\n",
       "      <td>22:00</td>\n",
       "      <td>3.44</td>\n",
       "      <td>0.0</td>\n",
       "      <td>2350</td>\n",
       "    </tr>\n",
       "    <tr>\n",
       "      <th>8782</th>\n",
       "      <td>2020/12/31</td>\n",
       "      <td>23:00</td>\n",
       "      <td>1.50</td>\n",
       "      <td>0.0</td>\n",
       "      <td>1859</td>\n",
       "    </tr>\n",
       "    <tr>\n",
       "      <th>8783</th>\n",
       "      <td>2021/1/1</td>\n",
       "      <td>00:00</td>\n",
       "      <td>1.50</td>\n",
       "      <td>0.0</td>\n",
       "      <td>1599</td>\n",
       "    </tr>\n",
       "  </tbody>\n",
       "</table>\n",
       "<p>8784 rows × 5 columns</p>\n",
       "</div>"
      ],
      "text/plain": [
       "            Date   Time  Price  Theta  Load(kW)\n",
       "0       2020/1/1  01:00   1.50    0.0      1542\n",
       "1       2020/1/1  02:00   1.50    0.0      1504\n",
       "2       2020/1/1  03:00   1.50    0.0      1487\n",
       "3       2020/1/1  04:00   1.50    0.0      1510\n",
       "4       2020/1/1  05:00   1.50    0.0      1506\n",
       "...          ...    ...    ...    ...       ...\n",
       "8779  2020/12/31  20:00   3.44    0.0      3174\n",
       "8780  2020/12/31  21:00   3.44    0.0      2812\n",
       "8781  2020/12/31  22:00   3.44    0.0      2350\n",
       "8782  2020/12/31  23:00   1.50    0.0      1859\n",
       "8783    2021/1/1  00:00   1.50    0.0      1599\n",
       "\n",
       "[8784 rows x 5 columns]"
      ]
     },
     "execution_count": 33,
     "metadata": {},
     "output_type": "execute_result"
    }
   ],
   "source": [
    "#用pandas的read_csv方法讀入資料，參數是字串型態的檔名\n",
    "Electric = pd.read_csv(\"data/整點資料CSV.csv\")\n",
    "Electric"
   ]
  },
  {
   "cell_type": "markdown",
   "metadata": {},
   "source": [
    "# 宣告儲存變數用的陣列、宣告變數"
   ]
  },
  {
   "cell_type": "code",
   "execution_count": 34,
   "metadata": {},
   "outputs": [],
   "source": [
    "#用三維資料進行儲存 [月份][日期][小時]\n",
    "\n",
    "Price = np.zeros([12, 31, 24])\n",
    "Theta = np.zeros([12, 31, 24])\n",
    "Load = np.zeros([12, 31, 24])"
   ]
  },
  {
   "cell_type": "code",
   "execution_count": 35,
   "metadata": {},
   "outputs": [],
   "source": [
    "#各月份天數\n",
    "N_m = [31, 29, 31, 30, 31, 30, 31, 31, 30, 31, 30, 31]"
   ]
  },
  {
   "cell_type": "markdown",
   "metadata": {},
   "source": [
    "# 將資料存成三維陣列[月份][日期][小時]"
   ]
  },
  {
   "cell_type": "code",
   "execution_count": 36,
   "metadata": {},
   "outputs": [],
   "source": [
    "#陣列從0開始，1月 => month=0；1日 => date=0 : 1時 => hour=0\n",
    "\n",
    "index_count = 0  #呼叫資料框資料進行儲存用的索引值\n",
    "\n",
    "for month in range(0, 12):  #12個月\n",
    "    for date in range(0, N_m[month]):  #不同月份有不同天數，date範圍不同，用N_m陣列值代表範圍\n",
    "        hour = 0  #新的一天開始存資料，小時索引值要更新\n",
    "        for index in range(index_count, index_count+24):  #一次存24筆資料(24小時)\n",
    "            #print(str(month+1) + \"/\" + str(date+1) + \"/\" + str(hour+1) + \"/\" + str(index))  <==測試索引值用，不用理會\n",
    "            \n",
    "            #Electric.iloc[index, :] => 用pandas的iloc方法呼叫對應的索引值資料\n",
    "            #Electric[\"Price\"] => 用pandas語法呼叫對應column name的資料\n",
    "            #tolist() => 把資料數據轉換為list型態，方便後續轉換為多維陣列\n",
    "            #np.array => Numpy多維陣列宣告的語法\n",
    "            Price[month][date][hour] = np.array(Electric.iloc[index, :][\"Price\"].tolist())\n",
    "            Theta[month][date][hour] = np.array(Electric.iloc[index, :][\"Theta\"].tolist())\n",
    "            Load[month][date][hour] = np.array(Electric.iloc[index, :][\"Load(kW)\"].tolist())\n",
    "            hour = hour + 1  #每存一筆資料，小時索引值要加1，代表新的一個小時的資料\n",
    "        index_count = index_count + 24  #一天存24小時，索引值計數器要加24，代表下次要儲存下一組24筆資料"
   ]
  },
  {
   "cell_type": "code",
   "execution_count": 37,
   "metadata": {},
   "outputs": [],
   "source": [
    "#計算用戶年度總需求\n",
    "Total_load = 0\n",
    "\n",
    "for month in range(0, 12):\n",
    "    for date in range(0, N_m[month]):  \n",
    "        for hour in range(0, 24):\n",
    "            Total_load += Load[month][date][hour]"
   ]
  },
  {
   "cell_type": "markdown",
   "metadata": {},
   "source": [
    "# 宣告各類成本"
   ]
  },
  {
   "cell_type": "code",
   "execution_count": 38,
   "metadata": {},
   "outputs": [],
   "source": [
    "C_holding = 0.5  #儲能內部持有成本\n",
    "\n",
    "C_power_generation = 5  #光伏發電成本\n",
    "\n",
    "C_charge = 10.6  #儲能充電成本\n",
    "\n",
    "beta = 0.90  #放電效率"
   ]
  },
  {
   "cell_type": "markdown",
   "metadata": {},
   "source": [
    "# 用Gurobi跑最佳化"
   ]
  },
  {
   "cell_type": "code",
   "execution_count": 39,
   "metadata": {
    "scrolled": true
   },
   "outputs": [],
   "source": [
    "#定義模型\n",
    "opt_mod = Model(name = \"Electric_optimize\")"
   ]
  },
  {
   "cell_type": "markdown",
   "metadata": {},
   "source": [
    "# 加入決策變數"
   ]
  },
  {
   "cell_type": "code",
   "execution_count": 40,
   "metadata": {},
   "outputs": [],
   "source": [
    "#name => 決策變數名稱\n",
    "#vtype => 決策變數型態\n",
    "#lb => 變數值下限\n",
    "E_pv = opt_mod.addVar(name = \"E_pv\", vtype = GRB.INTEGER, lb = 0)  #光伏容量\n",
    "E_bat = opt_mod.addVar(name = \"E_bat\", vtype= GRB.INTEGER, lb = 0)  #儲能容量\n",
    "Total_pv = opt_mod.addVar(name = \"Total_pv\", vtype= GRB.INTEGER, lb = 0)  #太陽能總發電量\n",
    "\n",
    "opt_mod.update()  #每對模型做一次更改都要更新模型一次"
   ]
  },
  {
   "cell_type": "code",
   "execution_count": 41,
   "metadata": {},
   "outputs": [],
   "source": [
    "Charge, Discharge, Purchase, Inventory, PVoutput = [], [], [], [], []  #用陣列儲存新增決策變數\n",
    "#充電量、放電量、購電量、期末存貨量、光伏輸出量\n",
    "\n",
    "for month in range(0, 12):\n",
    "    for date in range(0, 31):  #後續要將陣列reshape，全數資料數量要一致，不做日期分別\n",
    "        for hour in range(0, 24):\n",
    "            #用list型態資料的append方法新增資料\n",
    "            #name => 決策變數名稱，為了方便結果視覺化，將索引值+1\n",
    "            Charge.append(opt_mod.addVar(name = \"Charge[\" + str(month+1) + \"][\" + str(date+1) + \"][\" + str(hour+1) + \"]\", vtype = GRB.INTEGER, lb = 0))\n",
    "            Discharge.append(opt_mod.addVar(name = \"Discharge[\" + str(month+1) + \"][\" + str(date+1) + \"][\" + str(hour+1) + \"]\", vtype = GRB.INTEGER, lb = 0))\n",
    "            Purchase.append(opt_mod.addVar(name = \"Purchase[\" + str(month+1) + \"][\" + str(date+1) + \"][\" + str(hour+1) + \"]\", vtype = GRB.INTEGER, lb = 0))\n",
    "            Inventory.append(opt_mod.addVar(name = \"Inventory[\" + str(month+1) + \"][\" + str(date+1) + \"][\" + str(hour+1) + \"]\", vtype = GRB.INTEGER, lb = 0))\n",
    "            PVoutput.append(opt_mod.addVar(name = \"PVoutput[\" + str(month+1) + \"][\" + str(date+1) + \"][\" + str(hour+1) + \"]\", vtype = GRB.INTEGER, lb = 0))\n",
    "\n",
    "\n",
    "#轉換成numpy陣列\n",
    "Charge = np.array(Charge)\n",
    "Discharge = np.array(Discharge)\n",
    "Purchase = np.array(Purchase)\n",
    "Inventory = np.array(Inventory)\n",
    "PVoutput = np.array(PVoutput)\n",
    "\n",
    "#將陣列reshape成三維陣列，方便後續利用索引值[月份][日期][小時]寫程式\n",
    "Charge = Charge.reshape(12,31,24)\n",
    "Discharge = Discharge.reshape(12,31,24)\n",
    "Purchase = Purchase.reshape(12,31,24)\n",
    "Inventory = Inventory.reshape(12,31,24)\n",
    "PVoutput = PVoutput.reshape(12,31,24)\n",
    "\n",
    "opt_mod.update()"
   ]
  },
  {
   "cell_type": "code",
   "execution_count": 42,
   "metadata": {},
   "outputs": [],
   "source": [
    "#把不存在的日期的決策變數刪除\n",
    "\n",
    "for v in opt_mod.getVars():  #取得決策變數名稱，用於判斷日期是否合理\n",
    "    #需要一個日期一個日期的變數刪\n",
    "    if \"[2][30]\" in v.VarName:\n",
    "        opt_mod.remove(v)\n",
    "    if \"[2][31]\" in v.VarName:\n",
    "        opt_mod.remove(v)\n",
    "    if \"[4][31]\" in v.VarName:\n",
    "        opt_mod.remove(v)\n",
    "    if \"[6][31]\" in v.VarName:\n",
    "        opt_mod.remove(v)\n",
    "    if \"[9][31]\" in v.VarName:\n",
    "        opt_mod.remove(v)\n",
    "    if \"[11][31]\" in v.VarName:\n",
    "        opt_mod.remove(v)\n",
    "        \n",
    "opt_mod.update()"
   ]
  },
  {
   "cell_type": "markdown",
   "metadata": {},
   "source": [
    "# 定義目標函式"
   ]
  },
  {
   "cell_type": "code",
   "execution_count": 43,
   "metadata": {},
   "outputs": [],
   "source": [
    "obj_function = sum((Charge[month][date][hour]*C_charge) + (PVoutput[month][date][hour]*C_power_generation) + (Inventory[month][date][hour]*C_holding) + (Purchase[month][date][hour]*Price[month][date][hour]) for month in range(0, 12) for date in range(0, N_m[month]) for hour in range(0, 24))\n",
    "#儲能充電量*充電成本 + 光伏發電量*發電成本 + 儲能內部期末存貨量*持有成本 + 購電量*購電價"
   ]
  },
  {
   "cell_type": "code",
   "execution_count": 44,
   "metadata": {},
   "outputs": [],
   "source": [
    "#以最小化求解\n",
    "opt_mod.setObjective(obj_function, GRB.MINIMIZE)"
   ]
  },
  {
   "cell_type": "code",
   "execution_count": 45,
   "metadata": {},
   "outputs": [
    {
     "data": {
      "text/plain": [
       "'\\nfor month in range(0, 12):\\n    for date in range(0, N_m[month]):  \\n        for hour in range(0, 24):\\n'"
      ]
     },
     "execution_count": 45,
     "metadata": {},
     "output_type": "execute_result"
    }
   ],
   "source": [
    "#拿來複製用，不用理會\n",
    "\"\"\"\n",
    "for month in range(0, 12):\n",
    "    for date in range(0, N_m[month]):  \n",
    "        for hour in range(0, 24):\n",
    "\"\"\""
   ]
  },
  {
   "cell_type": "markdown",
   "metadata": {},
   "source": [
    "# 加入限制式\n",
    "## addConstr() => 加入一般限制式，裡面只能==、>=、<="
   ]
  },
  {
   "cell_type": "code",
   "execution_count": 46,
   "metadata": {},
   "outputs": [],
   "source": [
    "#各時段光伏輸出量限制:\n",
    "#光伏容量*各時段光伏發電因數\n",
    "\n",
    "for month in range(0, 12):\n",
    "    for date in range(0, N_m[month]):  \n",
    "        for hour in range(0, 24):\n",
    "            opt_mod.addConstr(PVoutput[month][date][hour] == E_pv*Theta[month][date][hour])\n",
    "    \n",
    "opt_mod.update()"
   ]
  },
  {
   "cell_type": "code",
   "execution_count": 47,
   "metadata": {},
   "outputs": [],
   "source": [
    "#光伏年度總輸出須滿足20%用戶年度負載量\n",
    "\n",
    "opt_mod.addConstr(Total_pv == quicksum(PVoutput[month][date][hour] for month in range(0, 12) for date in range(0, N_m[month]) for hour in range(0, 24)))\n",
    "opt_mod.addConstr(Total_pv >= 0.2*Total_load)\n",
    "\n",
    "opt_mod.update()"
   ]
  },
  {
   "cell_type": "code",
   "execution_count": 48,
   "metadata": {},
   "outputs": [],
   "source": [
    "#充電量限制式:\n",
    "#不得超過剩餘容量空間 => 電池容量-前期期末存貨\n",
    "#若光伏未發電，只放不充 => 充電量=0\n",
    "\n",
    "for month in range(0, 12):\n",
    "    for date in range(0, N_m[month]):  \n",
    "        for hour in range(0, 24):\n",
    "            if month == 0:  #一月\n",
    "                if date == 0:\n",
    "                    if hour == 0:\n",
    "                        opt_mod.addConstr(Charge[month][date][hour] <= Discharge[month][date][hour])  #預設初始存貨是滿的\n",
    "                    else:\n",
    "                        opt_mod.addConstr(Charge[month][date][hour] <= E_bat -  Inventory[month][date][hour-1] + Discharge[month][date][hour])  #跨小時，小時索引值要-1\n",
    "                else:\n",
    "                    if hour == 0:\n",
    "                        opt_mod.addConstr(Charge[month][date][hour] <= E_bat - Inventory[month][date-1][23] + Discharge[month][date][hour])  #跨日，日期索引值-1，小時索引值23\n",
    "                    else:\n",
    "                        opt_mod.addConstr(Charge[month][date][hour] <= E_bat - Inventory[month][date][hour-1] + Discharge[month][date][hour])\n",
    "            elif month == 1 or month == 3 or month == 5 or month == 7 or month == 8 or month == 10:  #二、四、六、八、九、十一月第一天的第一時前期是上個月的31日24時\n",
    "                if date == 0:\n",
    "                    if hour == 0:\n",
    "                        opt_mod.addConstr(Charge[month][date][hour] <= E_bat - Inventory[month-1][30][23] + Discharge[month][date][hour])  #跨月，月索引值-1，日期索引值30(前一個月的31日)，小時索引值23\n",
    "                    else:\n",
    "                        opt_mod.addConstr(Charge[month][date][hour] <= E_bat - Inventory[month][date][hour-1] + Discharge[month][date][hour])\n",
    "                else:\n",
    "                    if hour == 0:\n",
    "                        opt_mod.addConstr(Charge[month][date][hour] <= E_bat - Inventory[month][date-1][23] + Discharge[month][date][hour])\n",
    "                    else:\n",
    "                        opt_mod.addConstr(Charge[month][date][hour] <= E_bat - Inventory[month][date][hour-1] + Discharge[month][date][hour])\n",
    "            elif month == 2:  #三月第一天的第一時前期是上個月的29日24時\n",
    "                if date == 0:\n",
    "                    if hour == 0:\n",
    "                        opt_mod.addConstr(Charge[month][date][hour] <= E_bat - Inventory[month-1][28][23] + Discharge[month][date][hour])  #跨月，月索引值-1，日期索引值28(前一個月的29日)，小時索引值23\n",
    "                    else:\n",
    "                        opt_mod.addConstr(Charge[month][date][hour] <= E_bat - Inventory[month][date][hour-1] + Discharge[month][date][hour])\n",
    "                else:\n",
    "                    if hour == 0:\n",
    "                        opt_mod.addConstr(Charge[month][date][hour] <= E_bat - Inventory[month][date-1][23] + Discharge[month][date][hour])\n",
    "                    else:\n",
    "                        opt_mod.addConstr(Charge[month][date][hour] <= E_bat - Inventory[month][date][hour-1] + Discharge[month][date][hour])\n",
    "            else:  #五、七、十、十二月的第一天第一時前期是上個月30日24時\n",
    "                if date == 0:\n",
    "                    if hour == 0:\n",
    "                        opt_mod.addConstr(Charge[month][date][hour] <= E_bat - Inventory[month-1][29][23] + Discharge[month][date][hour])  #跨月，月索引值-1，日期索引值29(前一個月的30日)，小時索引值23\n",
    "                    else:\n",
    "                        opt_mod.addConstr(Charge[month][date][hour] <= E_bat - Inventory[month][date][hour-1] + Discharge[month][date][hour])\n",
    "                else:\n",
    "                    if hour == 0:\n",
    "                        opt_mod.addConstr(Charge[month][date][hour] <= E_bat - Inventory[month][date-1][23] + Discharge[month][date][hour])\n",
    "                    else:\n",
    "                        opt_mod.addConstr(Charge[month][date][hour] <= E_bat - Inventory[month][date][hour-1] + Discharge[month][date][hour])\n",
    "                \n",
    "opt_mod.update()"
   ]
  },
  {
   "cell_type": "code",
   "execution_count": 49,
   "metadata": {},
   "outputs": [],
   "source": [
    "#放電量限制式:\n",
    "#不得超過前期期末存貨量\n",
    "#放電量<=前期期末存貨\n",
    "#需考慮放電效率、引值變化\n",
    "\n",
    "for month in range(0, 12):\n",
    "    for date in range(0, N_m[month]):  \n",
    "        for hour in range(0, 24):\n",
    "            if month == 0:  #一月\n",
    "                if date == 0:\n",
    "                    if hour == 0:\n",
    "                        opt_mod.addConstr(Discharge[month][date][hour] <= beta*E_bat)  #預設初始存貨是滿的\n",
    "                    else:\n",
    "                        opt_mod.addConstr(Discharge[month][date][hour] <= beta*Inventory[month][date][hour-1])  #跨小時，小時索引值要-1\n",
    "                else:\n",
    "                    if hour == 0:\n",
    "                        opt_mod.addConstr(Discharge[month][date][hour] <= beta*Inventory[month][date-1][23])  #跨日，日期索引值-1，小時索引值23\n",
    "                    else:\n",
    "                        opt_mod.addConstr(Discharge[month][date][hour] <= beta*Inventory[month][date][hour-1])\n",
    "            elif month == 1 or month == 3 or month == 5 or month == 7 or month == 8 or month == 10:  #二、四、六、八、九、十一月第一天的第一時前期是上個月的31日24時\n",
    "                if date == 0:\n",
    "                    if hour == 0:\n",
    "                        opt_mod.addConstr(Discharge[month][date][hour] <= beta*Inventory[month-1][30][23])  #跨月，月索引值-1，日期索引值30(前一個月的31日)，小時索引值23\n",
    "                    else:\n",
    "                        opt_mod.addConstr(Discharge[month][date][hour] <= beta*Inventory[month][date][hour-1])\n",
    "                else:\n",
    "                    if hour == 0:\n",
    "                        opt_mod.addConstr(Discharge[month][date][hour] <= beta*Inventory[month][date-1][23])\n",
    "                    else:\n",
    "                        opt_mod.addConstr(Discharge[month][date][hour] <= beta*Inventory[month][date][hour-1])\n",
    "            elif month == 2:  #三月第一天的第一時前期是上個月的29日24時\n",
    "                if date == 0:\n",
    "                    if hour == 0:\n",
    "                        opt_mod.addConstr(Discharge[month][date][hour] <= beta*Inventory[month-1][28][23])  #跨月，月索引值-1，日期索引值28(前一個月的29日)，小時索引值23\n",
    "                    else:\n",
    "                        opt_mod.addConstr(Discharge[month][date][hour] <= beta*Inventory[month][date][hour-1])\n",
    "                else:\n",
    "                    if hour == 0:\n",
    "                        opt_mod.addConstr(Discharge[month][date][hour] <= beta*Inventory[month][date-1][23])\n",
    "                    else:\n",
    "                        opt_mod.addConstr(Discharge[month][date][hour] <= beta*Inventory[month][date][hour-1])\n",
    "            else:  #五、七、十、十二月的第一天第一時前期是上個月30日24時\n",
    "                if date == 0:\n",
    "                    if hour == 0:\n",
    "                        opt_mod.addConstr(Discharge[month][date][hour] <= beta*Inventory[month-1][29][23])  #跨月，月索引值-1，日期索引值29(前一個月的30日)，小時索引值23\n",
    "                    else:\n",
    "                        opt_mod.addConstr(Discharge[month][date][hour] <= beta*Inventory[month][date][hour-1])\n",
    "                else:\n",
    "                    if hour == 0:\n",
    "                        opt_mod.addConstr(Discharge[month][date][hour] <= beta*Inventory[month][date-1][23])\n",
    "                    else:\n",
    "                        opt_mod.addConstr(Discharge[month][date][hour] <= beta*Inventory[month][date][hour-1])\n",
    "                        \n",
    "opt_mod.update()"
   ]
  },
  {
   "cell_type": "code",
   "execution_count": 50,
   "metadata": {},
   "outputs": [],
   "source": [
    "#期末存貨限制式:\n",
    "#若光伏有發電 => 充放皆可: 當期期末存貨=前期期末存貨+當期充電量-當期放電量\n",
    "#若光伏未發電 => 只放不充: 當期期末存貨=前期期末存貨-當期放電量\n",
    "#需考慮放電效率、索引值變化\n",
    "\n",
    "for month in range(0, 12):\n",
    "    for date in range(0, N_m[month]):  \n",
    "        for hour in range(0, 24):\n",
    "            if month == 0:  #一月\n",
    "                if date == 0:\n",
    "                    if hour == 0:\n",
    "                        opt_mod.addConstr(Inventory[month][date][hour] == E_bat + Charge[month][date][hour] - (Discharge[month][date][hour]/beta))  #預設初始存貨是滿的\n",
    "                    else:\n",
    "                        opt_mod.addConstr(Inventory[month][date][hour] == Inventory[month][date][hour-1] + Charge[month][date][hour] - (Discharge[month][date][hour]/beta))\n",
    "                else:\n",
    "                    if hour == 0:\n",
    "                        opt_mod.addConstr(Inventory[month][date][hour] == Inventory[month][date-1][23] + Charge[month][date][hour] - (Discharge[month][date][hour]/beta))\n",
    "                    else:\n",
    "                        opt_mod.addConstr(Inventory[month][date][hour] == Inventory[month][date][hour-1] + Charge[month][date][hour] - (Discharge[month][date][hour]/beta))\n",
    "            elif month == 1 or month == 3 or month == 5 or month == 7 or month == 8 or month == 10:  #二、四、六、八、九、十一月第一天的第一時前期是上個月的31日24時\n",
    "                if date == 0:\n",
    "                    if hour == 0:\n",
    "                        opt_mod.addConstr(Inventory[month][date][hour] == Inventory[month-1][30][23] + Charge[month][date][hour] - (Discharge[month][date][hour]/beta))\n",
    "                    else:\n",
    "                        opt_mod.addConstr(Inventory[month][date][hour] == Inventory[month][date][hour-1] + Charge[month][date][hour] - (Discharge[month][date][hour]/beta))\n",
    "                else:\n",
    "                    if hour == 0:\n",
    "                        opt_mod.addConstr(Inventory[month][date][hour] == Inventory[month][date-1][23] + Charge[month][date][hour] - (Discharge[month][date][hour]/beta))\n",
    "                    else:\n",
    "                        opt_mod.addConstr(Inventory[month][date][hour] == Inventory[month][date][hour-1] + Charge[month][date][hour] - (Discharge[month][date][hour]/beta))\n",
    "            elif month == 2:  #三月第一天的第一時前期是上個月的29日24時\n",
    "                if date == 0:\n",
    "                    if hour == 0:\n",
    "                        opt_mod.addConstr(Inventory[month][date][hour] == Inventory[month-1][28][23] + Charge[month][date][hour] - (Discharge[month][date][hour]/beta))\n",
    "                    else:\n",
    "                        opt_mod.addConstr(Inventory[month][date][hour] == Inventory[month][date][hour-1] + Charge[month][date][hour] - (Discharge[month][date][hour]/beta))\n",
    "                else:\n",
    "                    if hour == 0:\n",
    "                        opt_mod.addConstr(Inventory[month][date][hour] == Inventory[month][date-1][23] + Charge[month][date][hour] - (Discharge[month][date][hour]/beta))\n",
    "                    else:\n",
    "                        opt_mod.addConstr(Inventory[month][date][hour] == Inventory[month][date][hour-1] + Charge[month][date][hour] - (Discharge[month][date][hour]/beta))\n",
    "            else:  #五、七、十、十二月的第一天第一時前期是上個月30日24時\n",
    "                if date == 0:\n",
    "                    if hour == 0:\n",
    "                        opt_mod.addConstr(Inventory[month][date][hour] == Inventory[month-1][29][23] + Charge[month][date][hour] - (Discharge[month][date][hour]/beta))\n",
    "                    else:\n",
    "                        opt_mod.addConstr(Inventory[month][date][hour] == Inventory[month][date][hour-1] + Charge[month][date][hour] - (Discharge[month][date][hour]/beta))\n",
    "                else:\n",
    "                    if hour == 0:\n",
    "                        opt_mod.addConstr(Inventory[month][date][hour] == Inventory[month][date-1][23] + Charge[month][date][hour] - (Discharge[month][date][hour]/beta))\n",
    "                    else:\n",
    "                        opt_mod.addConstr(Inventory[month][date][hour] == Inventory[month][date][hour-1] + Charge[month][date][hour] - (Discharge[month][date][hour]/beta))\n",
    "\n",
    "opt_mod.update()"
   ]
  },
  {
   "cell_type": "code",
   "execution_count": 51,
   "metadata": {},
   "outputs": [],
   "source": [
    "#系統滿足負載量限制式:\n",
    "#若光伏有發電 => 充放皆可: 光伏+儲能輸出要滿足20%用戶負載\n",
    "#若光伏未發電 => 只放不充: 儲能輸出要滿足20%用戶負載\n",
    "\n",
    "for month in range(0, 12):\n",
    "    for date in range(0, N_m[month]):  \n",
    "        for hour in range(0, 24):\n",
    "            if Theta[month][date][hour] == 0:\n",
    "                opt_mod.addConstr(Discharge[month][date][hour] >= Load[month][date][hour]*0.2)\n",
    "            else:\n",
    "                opt_mod.addConstr(PVoutput[month][date][hour] + Discharge[month][date][hour] >= Load[month][date][hour]*0.2)\n",
    "                \n",
    "opt_mod.update()"
   ]
  },
  {
   "cell_type": "code",
   "execution_count": 52,
   "metadata": {},
   "outputs": [],
   "source": [
    "#全時段供給須滿足需求限制式:\n",
    "#購電量+放電量+光伏輸出>=負載+充電量\n",
    "\n",
    "for month in range(0, 12):\n",
    "    for date in range(0, N_m[month]):  \n",
    "        for hour in range(0, 24):\n",
    "            opt_mod.addConstr(Purchase[month][date][hour] + Discharge[month][date][hour] + PVoutput[month][date][hour] - Load[month][date][hour] - Charge[month][date][hour] >= 0)\n",
    "            \n",
    "opt_mod.update()"
   ]
  },
  {
   "cell_type": "code",
   "execution_count": 53,
   "metadata": {},
   "outputs": [],
   "source": [
    "#儲能容量限制式:\n",
    "#容量須滿足最大期末存貨量\n",
    "\n",
    "#Gurobi最大值限制式語法 => (a == [這些資料當中的最大值])\n",
    "opt_mod.addGenConstrMax(E_bat, [Inventory[month][date][hour] for month in range(0, 12) for date in range(0, N_m[month]) for hour in range(0, 24)])\n",
    "\n",
    "opt_mod.update()"
   ]
  },
  {
   "cell_type": "markdown",
   "metadata": {},
   "source": [
    "# 運行最佳化"
   ]
  },
  {
   "cell_type": "code",
   "execution_count": 54,
   "metadata": {},
   "outputs": [
    {
     "name": "stdout",
     "output_type": "stream",
     "text": [
      "Gurobi Optimizer version 10.0.1 build v10.0.1rc0 (win64)\n",
      "\n",
      "CPU model: Intel(R) Core(TM) i5-10210U CPU @ 1.60GHz, instruction set [SSE2|AVX|AVX2]\n",
      "Thread count: 4 physical cores, 8 logical processors, using up to 8 threads\n",
      "\n",
      "Optimize a model with 52706 rows, 43923 columns and 158220 nonzeros\n",
      "Model fingerprint: 0xdadf7610\n",
      "Model has 1 general constraint\n",
      "Variable types: 0 continuous, 43923 integer (0 binary)\n",
      "Coefficient statistics:\n",
      "  Matrix range     [1e-03, 1e+00]\n",
      "  Objective range  [5e-01, 1e+01]\n",
      "  Bounds range     [0e+00, 0e+00]\n",
      "  RHS range        [5e+01, 7e+06]\n",
      "Presolve added 0 rows and 8783 columns\n",
      "Presolve removed 6919 rows and 0 columns\n",
      "Presolve time: 0.40s\n",
      "Presolved: 45787 rows, 52706 columns, 157504 nonzeros\n",
      "Presolved model has 8784 SOS constraint(s)\n",
      "Variable types: 0 continuous, 52706 integer (8784 binary)\n",
      "Deterministic concurrent LP optimizer: primal and dual simplex\n",
      "Showing first log only...\n",
      "\n",
      "Concurrent spin time: 0.00s\n",
      "\n",
      "Solved with dual simplex\n",
      "\n",
      "Root relaxation: objective 1.607085e+08, 27800 iterations, 0.76 seconds (0.42 work units)\n",
      "\n",
      "    Nodes    |    Current Node    |     Objective Bounds      |     Work\n",
      " Expl Unexpl |  Obj  Depth IntInf | Incumbent    BestBd   Gap | It/Node Time\n",
      "\n",
      "     0     0 1.6071e+08    0 14992          - 1.6071e+08      -     -    4s\n",
      "H    0     0                    1.829717e+08 1.6071e+08  12.2%     -   11s\n",
      "H    0     0                    1.826507e+08 1.6071e+08  12.0%     -   11s\n",
      "H    0     0                    1.825056e+08 1.6071e+08  11.9%     -   11s\n",
      "     0     0 1.6077e+08    0 2122 1.8251e+08 1.6077e+08  11.9%     -   11s\n",
      "H    0     0                    1.631118e+08 1.6077e+08  1.44%     -   12s\n",
      "     0     0 1.6077e+08    0 2119 1.6311e+08 1.6077e+08  1.44%     -   12s\n",
      "     0     0 1.6077e+08    0 2078 1.6311e+08 1.6077e+08  1.44%     -   13s\n",
      "H    0     0                    1.630719e+08 1.6077e+08  1.41%     -   14s\n",
      "     0     0 1.6079e+08    0 2088 1.6307e+08 1.6079e+08  1.40%     -   15s\n",
      "H    0     0                    1.629569e+08 1.6079e+08  1.33%     -   16s\n",
      "     0     0 1.6079e+08    0 2092 1.6296e+08 1.6079e+08  1.33%     -   16s\n",
      "     0     0 1.6079e+08    0 2040 1.6296e+08 1.6079e+08  1.33%     -   18s\n",
      "H    0     0                    1.629340e+08 1.6079e+08  1.32%     -   18s\n",
      "     0     0 1.6079e+08    0 2038 1.6293e+08 1.6079e+08  1.32%     -   19s\n",
      "     0     0 1.6079e+08    0 2031 1.6293e+08 1.6079e+08  1.32%     -   20s\n",
      "H    0     0                    1.608240e+08 1.6079e+08  0.02%     -   21s\n",
      "H    0     0                    1.608228e+08 1.6079e+08  0.02%     -   21s\n",
      "H    0     0                    1.608216e+08 1.6079e+08  0.02%     -   21s\n",
      "H    0     0                    1.608204e+08 1.6079e+08  0.02%     -   21s\n",
      "H    0     0                    1.608191e+08 1.6079e+08  0.02%     -   21s\n",
      "H    0     0                    1.608179e+08 1.6079e+08  0.02%     -   21s\n",
      "H    0     0                    1.608167e+08 1.6079e+08  0.02%     -   21s\n",
      "H    0     0                    1.608155e+08 1.6079e+08  0.02%     -   21s\n",
      "     0     0 1.6080e+08    0    1 1.6082e+08 1.6080e+08  0.01%     -   21s\n",
      "\n",
      "Cutting planes:\n",
      "  Gomory: 12\n",
      "  MIR: 1744\n",
      "  StrongCG: 307\n",
      "\n",
      "Explored 1 nodes (30036 simplex iterations) in 21.89 seconds (9.01 work units)\n",
      "Thread count was 8 (of 8 available processors)\n",
      "\n",
      "Solution count 10: 1.60815e+08 1.60817e+08 1.60818e+08 ... 1.62957e+08\n",
      "\n",
      "Optimal solution found (tolerance 1.00e-04)\n",
      "Best objective 1.608154987600e+08, best bound 1.607999582200e+08, gap 0.0097%\n"
     ]
    }
   ],
   "source": [
    "opt_mod.optimize()"
   ]
  },
  {
   "cell_type": "code",
   "execution_count": 55,
   "metadata": {},
   "outputs": [],
   "source": [
    "#將限制式寫成檔案\n",
    "opt_mod.write(\"Electric_test.lp\")"
   ]
  },
  {
   "cell_type": "markdown",
   "metadata": {},
   "source": [
    "# 輸出結果編成Excel"
   ]
  },
  {
   "cell_type": "markdown",
   "metadata": {},
   "source": [
    "## 1.先將數據分類"
   ]
  },
  {
   "cell_type": "code",
   "execution_count": 56,
   "metadata": {},
   "outputs": [],
   "source": [
    "others = []  #儲存最佳目標函式值、光伏容量、儲能容量\n",
    "\n",
    "#儲存充電量、放電量、期末存貨量、購電量、負載量、光伏發電因數、光伏輸出量、購電價\n",
    "Charge_result, Discharge_result, Inventory_result, Purchase_result, PVoutput_result, Theta_result, Load_result, Price_result = [], [], [], [], [], [], [], []\n",
    "\n",
    "others.append([\"Objective value\", round(opt_mod.objVal, 0)])  #最佳目標函式值\n",
    "\n",
    "for v in opt_mod.getVars():\n",
    "    if \"E_pv\" in v.VarName:\n",
    "        others.append([v.varName, v.x])  #光伏容量\n",
    "    if \"E_bat\" in v.VarName:\n",
    "        others.append([v.varName, v.x])  #儲能容量\n",
    "    if \"Charge\" in v.VarName:\n",
    "        Charge_result.append([v.varName, v.x])  #充電量\n",
    "    if \"Discharge\" in v.VarName:\n",
    "        Discharge_result.append([v.varName, v.x])  #放電量\n",
    "    if \"Purchase\" in v.VarName:\n",
    "        Purchase_result.append([v.varName, v.x])  #購電量\n",
    "    if \"Inventory\" in v.VarName:\n",
    "        Inventory_result.append([v.varName, v.x])  #期末存貨量\n",
    "    if \"PVoutput\" in v.VarName:\n",
    "        PVoutput_result.append([v.varName, v.x])  #光伏輸出量\n",
    "\n",
    "for month in range(0, 12):\n",
    "    for date in range(0, N_m[month]):  \n",
    "        for hour in range(0, 24):\n",
    "            Theta_result.append([\"Theta[\" + str(month+1) + \"][\" + str(date+1) + \"][\" + str(hour+1) + \"]\", Theta[month][date][hour]])  #光伏發電因數\n",
    "            Load_result.append([\"Load[\" + str(month+1) + \"][\" + str(date+1) + \"][\" + str(hour+1) + \"]\", Load[month][date][hour]])  #負載量\n",
    "            Price_result.append([\"Price[\" + str(month+1) + \"][\" + str(date+1) + \"][\" + str(hour+1) + \"]\", Price[month][date][hour]])  #購電價"
   ]
  },
  {
   "cell_type": "markdown",
   "metadata": {},
   "source": [
    "## 2.把分類數據以日為單位儲存"
   ]
  },
  {
   "cell_type": "code",
   "execution_count": 57,
   "metadata": {},
   "outputs": [],
   "source": [
    "#將資料以日為單位分類\n",
    "\n",
    "Others_df, Charge_df, Discharge_df, Inventory_df, Purchase_df, Load_df, Theta_df, PVoutput_df, Price_df =[], [], [], [], [], [], [], [], []\n",
    "\n",
    "Dataframe = []  #儲存各時段總資料框\n",
    "\n",
    "index_count = 0  #靠索引值分類，一天24筆資料\n",
    "\n",
    "for month in range(0, 12):\n",
    "    for date in range(0, N_m[month]):\n",
    "        #用pandas的concat方法合併多個資料框 => concat([資料框1, 資料框2, ...], axis)\n",
    "        #用pandas的DataFrame方法將陣列資料轉換為資料框 => DataFrame(資料陣列, columns = 行名稱)\n",
    "        Dataframe.append(pd.concat([pd.DataFrame(Charge_result[index_count:index_count+24], columns = [\"Charge[month][date][hour]\", \"Charge\"]),\n",
    "                                    pd.DataFrame(Discharge_result[index_count:index_count+24], columns = [\"Discharge[month][date][hour]\", \"Discharge\"]),\n",
    "                                    pd.DataFrame(Purchase_result[index_count:index_count+24], columns = [\"Purchase[month][date][hour]\", \"Purchase\"]),\n",
    "                                    pd.DataFrame(Inventory_result[index_count:index_count+24], columns = [\"Inventory[month][date][hour]\", \"Inventory\"]),\n",
    "                                    pd.DataFrame(PVoutput_result[index_count:index_count+24], columns = [\"PVoutput[month][date][hour]\", \"PVoutput\"]),\n",
    "                                    pd.DataFrame(Theta_result[index_count:index_count+24], columns = [\"Theta[month][date][hour]\", \"Theta\"]),\n",
    "                                    pd.DataFrame(Load_result[index_count:index_count+24], columns = [\"Load[month][date][hour]\", \"Load\"]),\n",
    "                                    pd.DataFrame(Price_result[index_count:index_count+24], columns = [\"Price[month][date][hour]\", \"Price\"])],\n",
    "                                    axis = 1))  #axis = 1 ==> 橫著方向合併資料\n",
    "        index_count = index_count +24  #一天存了24筆資料，索引值要加24，代表下一次存下一組24筆資料\n",
    "        \n",
    "Others_df = pd.DataFrame(others) #儲存最佳目標函式值、光伏容量、儲能容量"
   ]
  },
  {
   "cell_type": "markdown",
   "metadata": {},
   "source": [
    "## 3.將366天資料合併為一個資料框"
   ]
  },
  {
   "cell_type": "code",
   "execution_count": 58,
   "metadata": {},
   "outputs": [],
   "source": [
    "for i in range(1, len(Dataframe)):\n",
    "    Dataframe[i] = pd.concat([Dataframe[i-1], Dataframe[i]], axis = 0)"
   ]
  },
  {
   "cell_type": "markdown",
   "metadata": {},
   "source": [
    "## 4.將366天的資料框索引值重設，再與儲存最佳目標函式值、光伏容量、儲能容量的資料框合併"
   ]
  },
  {
   "cell_type": "code",
   "execution_count": 59,
   "metadata": {},
   "outputs": [],
   "source": [
    "Dataframe[365].reset_index(inplace = True)  #重設索引值 => 0-8783\n",
    "Dataframe[365] = Dataframe[365].drop(columns = [\"index\"])  #將舊的索引值刪掉 => 0-24\n",
    "df = pd.concat([Others_df, Dataframe[365]], axis = 1)  #將366天資料框與儲存最佳目標函式值、光伏容量、儲能容量的資料框合併"
   ]
  },
  {
   "cell_type": "markdown",
   "metadata": {},
   "source": [
    "## 5.輸出成Excel"
   ]
  },
  {
   "cell_type": "code",
   "execution_count": 61,
   "metadata": {},
   "outputs": [],
   "source": [
    "#用pandas的to_excel方法匯出成Excel檔，參數是字串型態的檔名\n",
    "df.to_excel('result/Final_result.xlsx')"
   ]
  }
 ],
 "metadata": {
  "kernelspec": {
   "display_name": "base",
   "language": "python",
   "name": "python3"
  },
  "language_info": {
   "codemirror_mode": {
    "name": "ipython",
    "version": 3
   },
   "file_extension": ".py",
   "mimetype": "text/x-python",
   "name": "python",
   "nbconvert_exporter": "python",
   "pygments_lexer": "ipython3",
   "version": "3.9.13"
  },
  "vscode": {
   "interpreter": {
    "hash": "87b107bea13c34e492bbc2e8feae2d557e2641698ab0bcf705ce9f430b71b885"
   }
  }
 },
 "nbformat": 4,
 "nbformat_minor": 2
}
